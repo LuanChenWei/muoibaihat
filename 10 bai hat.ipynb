{
 "cells": [
  {
   "cell_type": "code",
   "execution_count": null,
   "id": "be716629",
   "metadata": {},
   "outputs": [],
   "source": [
    "bai hat mot\n",
    "bai hat hai\n",
    "bai hat ba\n",
    "bai hat bon \n",
    "bai hat nam\n",
    "bai hat sau\n"
   ]
  }
 ],
 "metadata": {
  "kernelspec": {
   "display_name": "Python 3",
   "language": "python",
   "name": "python3"
  },
  "language_info": {
   "codemirror_mode": {
    "name": "ipython",
    "version": 3
   },
   "file_extension": ".py",
   "mimetype": "text/x-python",
   "name": "python",
   "nbconvert_exporter": "python",
   "pygments_lexer": "ipython3",
   "version": "3.8.8"
  }
 },
 "nbformat": 4,
 "nbformat_minor": 5
}
